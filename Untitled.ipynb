{
 "cells": [
  {
   "cell_type": "code",
   "execution_count": 6,
   "id": "314d373c",
   "metadata": {},
   "outputs": [
    {
     "ename": "ImportError",
     "evalue": "cannot import name 'Flask' from 'backend' (C:\\Users\\azoma\\Desktop\\API_Project\\backend.py)",
     "output_type": "error",
     "traceback": [
      "\u001b[1;31m---------------------------------------------------------------------------\u001b[0m",
      "\u001b[1;31mImportError\u001b[0m                               Traceback (most recent call last)",
      "\u001b[1;32m~\\AppData\\Local\\Temp\\ipykernel_24072\\1933879298.py\u001b[0m in \u001b[0;36m<module>\u001b[1;34m\u001b[0m\n\u001b[1;32m----> 1\u001b[1;33m \u001b[1;32mfrom\u001b[0m \u001b[0mbackend\u001b[0m \u001b[1;32mimport\u001b[0m \u001b[0mFlask\u001b[0m\u001b[1;33m,\u001b[0m \u001b[0mrequest\u001b[0m\u001b[1;33m,\u001b[0m \u001b[0mjsonify\u001b[0m\u001b[1;33m,\u001b[0m \u001b[0mrender_template\u001b[0m\u001b[1;33m\u001b[0m\u001b[1;33m\u001b[0m\u001b[0m\n\u001b[0m\u001b[0;32m      2\u001b[0m \u001b[1;32mimport\u001b[0m \u001b[0mmysql\u001b[0m\u001b[1;33m.\u001b[0m\u001b[0mconnector\u001b[0m\u001b[1;33m\u001b[0m\u001b[1;33m\u001b[0m\u001b[0m\n\u001b[0;32m      3\u001b[0m \u001b[1;33m\u001b[0m\u001b[0m\n\u001b[0;32m      4\u001b[0m \u001b[0mapp\u001b[0m \u001b[1;33m=\u001b[0m \u001b[0mFlask\u001b[0m\u001b[1;33m(\u001b[0m\u001b[0m__name__\u001b[0m\u001b[1;33m)\u001b[0m\u001b[1;33m\u001b[0m\u001b[1;33m\u001b[0m\u001b[0m\n\u001b[0;32m      5\u001b[0m \u001b[1;33m\u001b[0m\u001b[0m\n",
      "\u001b[1;32m~\\Desktop\\API_Project\\backend.py\u001b[0m in \u001b[0;36m<module>\u001b[1;34m\u001b[0m\n\u001b[1;32m----> 1\u001b[1;33m \u001b[1;32mfrom\u001b[0m \u001b[0mbackend\u001b[0m \u001b[1;32mimport\u001b[0m \u001b[0mFlask\u001b[0m\u001b[1;33m,\u001b[0m \u001b[0mrequest\u001b[0m\u001b[1;33m,\u001b[0m \u001b[0mjsonify\u001b[0m\u001b[1;33m,\u001b[0m \u001b[0mrender_template\u001b[0m\u001b[1;33m\u001b[0m\u001b[1;33m\u001b[0m\u001b[0m\n\u001b[0m\u001b[0;32m      2\u001b[0m \u001b[1;32mimport\u001b[0m \u001b[0mmysql\u001b[0m\u001b[1;33m.\u001b[0m\u001b[0mconnector\u001b[0m\u001b[1;33m\u001b[0m\u001b[1;33m\u001b[0m\u001b[0m\n\u001b[0;32m      3\u001b[0m \u001b[1;33m\u001b[0m\u001b[0m\n\u001b[0;32m      4\u001b[0m \u001b[0mapp\u001b[0m \u001b[1;33m=\u001b[0m \u001b[0mFlask\u001b[0m\u001b[1;33m(\u001b[0m\u001b[0m__name__\u001b[0m\u001b[1;33m)\u001b[0m\u001b[1;33m\u001b[0m\u001b[1;33m\u001b[0m\u001b[0m\n\u001b[0;32m      5\u001b[0m \u001b[1;33m\u001b[0m\u001b[0m\n",
      "\u001b[1;31mImportError\u001b[0m: cannot import name 'Flask' from 'backend' (C:\\Users\\azoma\\Desktop\\API_Project\\backend.py)"
     ]
    }
   ],
   "source": [
    "from backend import Flask, request, jsonify, render_template\n",
    "import mysql.connector\n",
    "\n",
    "app = Flask(__name__)\n",
    "\n",
    "# إعداد الاتصال بقاعدة البيانات\n",
    "db = mysql.connector.connect(\n",
    "    host=\"localhost\",  # عدّل حسب إعداداتك\n",
    "    user=\"root\",       # اسم المستخدم\n",
    "    password=\"1223\",   # كلمة المرور\n",
    "    database=\"API_Project\"  # اسم قاعدة البيانات\n",
    ")\n",
    "\n",
    "cursor = db.cursor()\n",
    "\n",
    "@app.route('/')\n",
    "def home():\n",
    "    return render_template('form.html')\n",
    "\n",
    "@app.route('/add-expense', methods=['POST'])\n",
    "def add_expense():\n",
    "    data = request.json  # استقبال البيانات من JavaScript\n",
    "    try:\n",
    "        # صياغة أمر الإدخال\n",
    "        query = \"\"\"\n",
    "            INSERT INTO Expenses (ID, Item_ID, Item_Name, Item_Type, Amount, Pay_DATE, Who_Payed)\n",
    "            VALUES (%s, %s, %s, %s, %s, %s, %s)\n",
    "        \"\"\"\n",
    "        values = (\n",
    "            data['ID'],\n",
    "            data['Item_ID'],\n",
    "            data['Item_Name'],\n",
    "            data['Item_Type'],\n",
    "            data['Amount'],\n",
    "            data['Pay_DATE'],\n",
    "            data['Who_Payed']\n",
    "        )\n",
    "        \n",
    "        # تنفيذ الأمر\n",
    "        cursor.execute(query, values)\n",
    "        db.commit()\n",
    "        \n",
    "        return jsonify({\"message\": \"Expense added successfully!\"}), 201\n",
    "    except Exception as e:\n",
    "        return jsonify({\"error\": str(e)}), 500\n",
    "\n",
    "if __name__ == '__main__':\n",
    "    app.run(debug=True)\n"
   ]
  },
  {
   "cell_type": "code",
   "execution_count": 3,
   "id": "d683ed8c",
   "metadata": {},
   "outputs": [
    {
     "name": "stdout",
     "output_type": "stream",
     "text": [
      "Requirement already satisfied: urllib3 in c:\\users\\azoma\\anaconda3\\envs\\py37_env\\lib\\site-packages (2.0.7)\n",
      "Note: you may need to restart the kernel to use updated packages.\n"
     ]
    }
   ],
   "source": [
    "pip install --upgrade urllib3\n"
   ]
  },
  {
   "cell_type": "code",
   "execution_count": null,
   "id": "4f00e468",
   "metadata": {},
   "outputs": [],
   "source": []
  }
 ],
 "metadata": {
  "kernelspec": {
   "display_name": "Python 3 (ipykernel)",
   "language": "python",
   "name": "python3"
  },
  "language_info": {
   "codemirror_mode": {
    "name": "ipython",
    "version": 3
   },
   "file_extension": ".py",
   "mimetype": "text/x-python",
   "name": "python",
   "nbconvert_exporter": "python",
   "pygments_lexer": "ipython3",
   "version": "3.7.1"
  }
 },
 "nbformat": 4,
 "nbformat_minor": 5
}
